{
  "cells": [
    {
      "cell_type": "markdown",
      "metadata": {
        "colab_type": "text",
        "id": "N1EHYIqxd80m"
      },
      "source": [
        "##### Copyright 2020 DeepMind Technologies Limited.\n",
        "\n",
        "Licensed under the Apache License, Version 2.0 (the \"License\");"
      ]
    },
    {
      "cell_type": "code",
      "execution_count": 0,
      "metadata": {
        "colab": {},
        "colab_type": "code",
        "id": "jK5pMeB_eIyJ"
      },
      "outputs": [],
      "source": [
        "# Licensed under the Apache License, Version 2.0 (the \"License\");\n",
        "# you may not use this file except in compliance with the License.\n",
        "# You may obtain a copy of the License at\n",
        "#\n",
        "# https://www.apache.org/licenses/LICENSE-2.0\n",
        "#\n",
        "# Unless required by applicable law or agreed to in writing, software\n",
        "# distributed under the License is distributed on an \"AS IS\" BASIS,\n",
        "# WITHOUT WARRANTIES OR CONDITIONS OF ANY KIND, either express or implied.\n",
        "# See the License for the specific language governing permissions and\n",
        "# limitations under the License."
      ]
    },
    {
      "cell_type": "markdown",
      "metadata": {
        "colab_type": "text",
        "id": "IRX0BA2KosLs"
      },
      "source": [
        "# **V**ariational **I**ntrinsic **S**uccessor Featu**R**es\n",
        "This is a minimal TensorFlow-v1 implementation of the VISR algorithm from [Fast Task Inference with Variational Intrinsic Successor Features](https://arxiv.org/abs/1906.05030) aimed at ease of understanding and usage rather than performance.\n",
        "\n",
        "\n",
        "*   The (self-contained) environment is a 2D grid-world with 4 actions corresponding to the cardinal directions\n",
        "*   VISR is trained here using batched environments and 1-step Q-learning\n",
        "*   Should train in \u003c 1 hour without a GPU\n",
        "*   After training, fast inference can be performed in \u003c 1 second on arbitrary reward functions\n",
        "*   The code should be easily modifiable, but it advised to switch to a distributed training setup if attempting more complex environments (e.g. Atari)\n",
        "*  The hyper-parameters and network architecture where chosen for simplicity, and could certainly be improved upon if performance on more complex grid-worlds is desired.\n",
        "\n"
      ]
    },
    {
      "cell_type": "code",
      "execution_count": 0,
      "metadata": {
        "cellView": "both",
        "colab": {},
        "colab_type": "code",
        "id": "932Onq6lRtyd"
      },
      "outputs": [],
      "source": [
        "#@title Imports\n",
        "%tensorflow_version 1.x\n",
        "!pip install \"dm-sonnet\u003c2\"\n",
        "import numpy as np\n",
        "import matplotlib.pyplot as plt\n",
        "import tensorflow as tf\n",
        "import sonnet as snt\n",
        "from IPython.display import clear_output\n",
        "from IPython.display import display\n",
        "from IPython.display import HTML\n",
        "%matplotlib inline"
      ]
    },
    {
      "cell_type": "code",
      "execution_count": 0,
      "metadata": {
        "colab": {},
        "colab_type": "code",
        "id": "sZSfOaYrsDnm"
      },
      "outputs": [],
      "source": [
        "#@title Environmental Constants and Algorithm Hyperparameters\n",
        "#constants\n",
        "grid_size = 10\n",
        "num_states = grid_size**2\n",
        "num_a = 4\n",
        "#hyper parameters\n",
        "num_gpi_samples = 10\n",
        "traj_len = 40\n",
        "mb_size = 32\n",
        "hid_dim = 100\n",
        "phi_dim = 5\n",
        "gamma = .95\n",
        "epsilon = .1\n",
        "lr = 1e-4"
      ]
    },
    {
      "cell_type": "code",
      "execution_count": 0,
      "metadata": {
        "colab": {},
        "colab_type": "code",
        "id": "M3x2g6zdR2pa"
      },
      "outputs": [],
      "source": [
        "#@title Environment Definition and Helper Functions\n",
        "def progress(value, max=100):\n",
        "    return HTML(\"\"\"\n",
        "        \u003cprogress\n",
        "            value='{value}'\n",
        "            max='{max}',\n",
        "            style='width: 100%'\n",
        "        \u003e\n",
        "            {value}\n",
        "        \u003c/progress\u003e\n",
        "    \"\"\".format(value=value, max=max))\n",
        "\n",
        "def sample_sphere(num_dim=phi_dim, size=None):\n",
        "  if size is None:\n",
        "    size = [traj_len, mb_size]\n",
        "  unnormed = np.random.randn(*(size+[num_dim]))\n",
        "  return unnormed / np.linalg.norm(unnormed, axis=-1, keepdims=True)\n",
        "\n",
        "def reset(size=mb_size, start_state=None):\n",
        "  if start_state is None:\n",
        "    state = np.random.randint(num_states, size=size)\n",
        "  else:\n",
        "    state = start_state*np.ones([size], dtype=np.int)\n",
        "  return state\n",
        "\n",
        "def get_obs(state):\n",
        "  return np.eye(num_states)[state]\n",
        "\n",
        "def get_rc(state):\n",
        "  row = state//grid_size\n",
        "  col = state % grid_size\n",
        "  return row, col\n",
        "\n",
        "def get_s(row, col):\n",
        "  return row*grid_size+col\n",
        "\n",
        "def step(state, action):\n",
        "  row, col = get_rc(state)\n",
        "  #a0:up\n",
        "  new_r = np.where(action == 0, row-1, row)\n",
        "  #a1:left\n",
        "  new_c = np.where(action == 1, col-1, col)\n",
        "  #a2:down\n",
        "  new_r = np.where(action == 2, new_r+1, new_r)\n",
        "  #a3:right\n",
        "  new_c = np.where(action == 3, new_c+1, new_c)\n",
        "  #clip\n",
        "  new_r[new_r \u003e= grid_size] = grid_size-1\n",
        "  new_r[new_r \u003c 0] = 0\n",
        "  new_c[new_c \u003e= grid_size] = grid_size-1\n",
        "  new_c[new_c \u003c 0] = 0\n",
        "  return get_s(new_r, new_c)"
      ]
    },
    {
      "cell_type": "code",
      "execution_count": 0,
      "metadata": {
        "colab": {},
        "colab_type": "code",
        "id": "A6njffC_VpjR"
      },
      "outputs": [],
      "source": [
        "#@title Define Computational Graph\n",
        "tf.disable_v2_behavior()\n",
        "tf.reset_default_graph()\n",
        "#Time x Batch\n",
        "s_ph = tf.placeholder(tf.int64, shape=[None, None], name='state_inds')\n",
        "#Time-1 x Batch\n",
        "a_ph = tf.placeholder(tf.int64, shape=[None, None], name='actions')\n",
        "#Time x Batch (constant across time)\n",
        "w_ph = tf.placeholder(tf.float32, shape=[None, None, phi_dim], name='options')\n",
        "cur_batch_shape = tf.shape(s_ph)\n",
        "obs = tf.one_hot(s_ph, num_states)\n",
        "psi_net = snt.nets.MLP([hid_dim, hid_dim, phi_dim*num_a])\n",
        "phi_net = snt.Sequential([snt.nets.MLP([hid_dim, phi_dim]),\n",
        "                          lambda x: tf.nn.l2_normalize(x, axis=-1)])\n",
        "phi = snt.BatchApply(phi_net)(obs)\n",
        "#assumes z=w, since GPI is only done out of graph\n",
        "psi = tf.reshape(snt.BatchApply(psi_net)(tf.concat([obs, w_ph], -1)),\n",
        "                 [cur_batch_shape[0], cur_batch_shape[1], phi_dim, num_a])\n",
        "q = tf.einsum('tbpa,tbp-\u003etba', psi, w_ph)\n",
        "#GPI (only for acting)\n",
        "gpi_z_shape = tf.concat([[num_gpi_samples], tf.shape(w_ph)[1:]], -1)\n",
        "gpi_z = tf.nn.l2_normalize(tf.random_normal(gpi_z_shape), axis=-1)\n",
        "#only care about time=0, since only for acting\n",
        "gpi_obs = tf.tile(obs[0][tf.newaxis], [num_gpi_samples, 1, 1])\n",
        "gpi_psi = tf.reshape(snt.BatchApply(psi_net)(tf.concat([gpi_obs, gpi_z], -1)),\n",
        "                     [num_gpi_samples, cur_batch_shape[1], phi_dim, num_a])\n",
        "gpi_q = tf.einsum('zbpa,bp-\u003ezba', gpi_psi, w_ph[0])\n",
        "gpi_q = tf.concat([q[0][tf.newaxis], gpi_q], 0)\n",
        "gpi_q = tf.reduce_max(gpi_q, axis=0)[tf.newaxis]\n",
        "\n",
        "psi_losses = []\n",
        "a_t = tf.argmax(q[1:], axis=-1)\n",
        "for i in range(phi_dim):\n",
        "  q_tm1 = tf.squeeze(\n",
        "      tf.gather(psi[:-1, :, i],\n",
        "                a_ph[:, :, tf.newaxis], axis=-1, batch_dims=2), -1)\n",
        "  q_t = tf.squeeze(\n",
        "      tf.gather(psi[1:, :, i],\n",
        "                a_t[:, :, tf.newaxis], axis=-1, batch_dims=2), -1)\n",
        "  y = phi[1:, :, i] + gamma*q_t  #reward based on state after action\n",
        "  psi_losses.append(tf.losses.mean_squared_error(tf.stop_gradient(y), q_tm1))\n",
        "psi_loss = tf.add_n(psi_losses)/float(phi_dim)\n",
        "phi_loss = tf.reduce_mean(1.0-tf.reduce_sum(phi[1:]*w_ph[1:], -1))\n",
        "train_step = tf.train.AdamOptimizer(lr, epsilon=1e-5).minimize(psi_loss)\n",
        "with tf.control_dependencies([train_step]):\n",
        "  train_step = tf.train.AdamOptimizer(10.*lr).minimize(phi_loss)\n",
        "sess = tf.train.SingularMonitoredSession()\n",
        "phi_hist = []\n",
        "psi_hist = []"
      ]
    },
    {
      "cell_type": "code",
      "execution_count": 0,
      "metadata": {
        "colab": {},
        "colab_type": "code",
        "id": "cn7ElUK7PC2_"
      },
      "outputs": [],
      "source": [
        "#@title Unsupervised Pre-Training\n",
        "num_steps = int(3e4)\n",
        "feed_dict = {}\n",
        "s = np.zeros([traj_len, mb_size], dtype=np.int)\n",
        "a = np.zeros([traj_len-1, mb_size], dtype=np.int)\n",
        "w = np.zeros([traj_len, mb_size, phi_dim])\n",
        "s[0, :] = reset()\n",
        "out = display(progress(0, num_steps), display_id=True)\n",
        "for e in range(num_steps):\n",
        "  out.update(progress(e, num_steps))\n",
        "  uniform_sphere = np.random.randn(1, mb_size, phi_dim)\n",
        "  uniform_sphere /= np.linalg.norm(uniform_sphere, axis=-1, keepdims=True)\n",
        "  w[:, :] = uniform_sphere\n",
        "  pos_starts = [0, grid_size-1, num_states-grid_size, num_states-1]\n",
        "  for t in range(traj_len-1):\n",
        "    a[t, :] = np.random.randint(num_a, size=mb_size)\n",
        "    cur_q = sess.run(gpi_q, feed_dict={\n",
        "        s_ph: s[t, :][np.newaxis], w_ph: w[t, :][np.newaxis]})[0]\n",
        "    greedy_a = np.argmax(cur_q, -1)\n",
        "    a[t, :] = np.where(np.random.rand(mb_size) \u003e epsilon, greedy_a, a[t])\n",
        "    s[t+1, :] = step(s[t], a[t])\n",
        "  feed_dict[s_ph] = s\n",
        "  feed_dict[a_ph] = a\n",
        "  feed_dict[w_ph] = w\n",
        "  _, cur_phi_loss, cur_psi_loss = sess.run([train_step, phi_loss, psi_loss],\n",
        "                                           feed_dict=feed_dict)\n",
        "  phi_hist.append(cur_phi_loss)\n",
        "  psi_hist.append(cur_psi_loss)\n",
        "plt.subplot(121)\n",
        "plt.plot(phi_hist)\n",
        "plt.subplot(122)\n",
        "plt.plot(psi_hist)"
      ]
    },
    {
      "cell_type": "code",
      "execution_count": 0,
      "metadata": {
        "cellView": "both",
        "colab": {
          "height": 281
        },
        "colab_type": "code",
        "executionInfo": {
          "elapsed": 58,
          "status": "ok",
          "timestamp": 1583246926586,
          "user": {
            "displayName": "",
            "photoUrl": "",
            "userId": ""
          },
          "user_tz": 0
        },
        "id": "7wHoB-mbWpYc",
        "outputId": "3698a1a4-4400-4cbb-ed89-fbc9b3c75df5"
      },
      "outputs": [
        {
          "data": {
            "image/png": "[encoded data removed]",
            "text/plain": [
              "\u003cFigure size 600x400 with 5 Axes\u003e"
            ]
          },
          "metadata": {
            "tags": []
          },
          "output_type": "display_data"
        }
      ],
      "source": [
        "#@title animated visualization of intrinsic rewards and value function, sweeping over 2D w's\n",
        "w_gran = 50\n",
        "def pol2cart(rho, angle):\n",
        "  x_coord = rho * np.cos(angle)\n",
        "  y_coord = rho * np.sin(angle)\n",
        "  return(x_coord, y_coord)\n",
        "eval_feed_dict = {}\n",
        "eval_feed_dict[s_ph] = np.arange(num_states)[np.newaxis]\n",
        "x, y = pol2cart(1, np.linspace(0, 2*np.pi, w_gran))\n",
        "all_w = np.dstack((x, y))[0]\n",
        "if phi_dim \u003e 2:\n",
        "  all_w = np.concatenate([all_w, np.zeros([w_gran, phi_dim-2])], -1)\n",
        "per_state_phi = sess.run(phi, feed_dict=eval_feed_dict)[0]\n",
        "for i in range(w_gran):\n",
        "  eval_feed_dict[w_ph] = np.tile(all_w[i][np.newaxis, np.newaxis],\n",
        "                                 [1, num_states, 1])\n",
        "  per_state_q = sess.run(gpi_q, feed_dict=eval_feed_dict)[0]\n",
        "  max_value_img = np.mean(per_state_q, -1).reshape([grid_size, grid_size])\n",
        "  policy = np.argmax(per_state_q, -1)\n",
        "  state_visit = np.ones([num_states])\n",
        "  s = reset(size=1000)\n",
        "  for t in range(traj_len):\n",
        "    s = step(s, policy[s])\n",
        "    visit, count = np.unique(s, return_counts=True)\n",
        "    state_visit[visit] += count\n",
        "  clear_output(wait=True)\n",
        "  plt.figure(0)\n",
        "  plt.subplot(231)\n",
        "  plt.title('reward')\n",
        "  plt.axis('off')\n",
        "  plt.imshow(np.dot(per_state_phi, all_w[i]).reshape(\n",
        "      [grid_size, grid_size]), interpolation='none', aspect='equal')\n",
        "  plt.subplot(232)\n",
        "  plt.title('max q value')\n",
        "  plt.axis('off')\n",
        "  plt.imshow(max_value_img, interpolation='none', aspect='equal')\n",
        "  plt.subplot(233)\n",
        "  plt.title('log visitation')\n",
        "  plt.axis('off')\n",
        "  plt.imshow(np.log(state_visit.reshape(\n",
        "      [grid_size, grid_size])), interpolation='none', aspect='equal')\n",
        "  plt.subplot(234)\n",
        "  plt.title('current w')\n",
        "  plt.plot([0, all_w[i, 0]], [0, all_w[i, 1]])\n",
        "  plt.xlim([-1, 1])\n",
        "  plt.ylim([-1, 1])\n",
        "  plt.subplot(235)\n",
        "  plt.title('policy')\n",
        "  plt.axis('off')\n",
        "  plt.imshow(policy.reshape(\n",
        "      [grid_size, grid_size]), interpolation='none', aspect='equal')\n",
        "  plt.show()"
      ]
    },
    {
      "cell_type": "code",
      "execution_count": 0,
      "metadata": {
        "cellView": "both",
        "colab": {
          "height": 571
        },
        "colab_type": "code",
        "executionInfo": {
          "elapsed": 7016,
          "status": "ok",
          "timestamp": 1582738554892,
          "user": {
            "displayName": "Steven Hansen",
            "photoUrl": "https://lh3.googleusercontent.com/a-/AAuE7mAdwCIvEbi7Cs-rjSAqUHjUTuBXdF5DAZmwS69Z=s64",
            "userId": "12398999399819072329"
          },
          "user_tz": 0
        },
        "id": "79qku0qGWslw",
        "outputId": "1f26c2a3-d81e-45d2-e269-b65ed8972d42"
      },
      "outputs": [
        {
          "data": {
            "image/png": "[encoded data removed]",
            "text/plain": [
              "\u003cFigure size 600x400 with 49 Axes\u003e"
            ]
          },
          "metadata": {
            "tags": []
          },
          "output_type": "display_data"
        },
        {
          "data": {
            "image/png": "[encoded data removed]",
            "text/plain": [
              "\u003cFigure size 600x400 with 49 Axes\u003e"
            ]
          },
          "metadata": {
            "tags": []
          },
          "output_type": "display_data"
        }
      ],
      "source": [
        "#@title static visualization of intrinsic rewards and value function, sweeping over 2D w's\n",
        "plot_size = 7\n",
        "w_gran = int(plot_size**2)\n",
        "eval_feed_dict = {}\n",
        "eval_feed_dict[s_ph] = np.arange(num_states)[np.newaxis]\n",
        "x, y = pol2cart(1, np.linspace(0, 2*np.pi, w_gran))\n",
        "all_w = np.dstack((x, y))[0]\n",
        "if phi_dim \u003e 2:\n",
        "  all_w = np.concatenate([all_w, np.zeros([w_gran, phi_dim-2])], -1)\n",
        "per_state_phi = sess.run(phi, feed_dict=eval_feed_dict)[0]\n",
        "for i in range(w_gran):\n",
        "  cur_w = sample_sphere(size=[1])\n",
        "  eval_feed_dict[w_ph] = np.tile(cur_w[np.newaxis], [1, num_states, 1])\n",
        "  per_state_q = sess.run(gpi_q, feed_dict=eval_feed_dict)[0]\n",
        "  max_value_img = np.mean(per_state_q, -1).reshape([grid_size, grid_size])\n",
        "  plt.figure(0)\n",
        "  plt.suptitle('reward')\n",
        "  plt.subplot(plot_size, plot_size, i+1)\n",
        "  plt.axis('off')\n",
        "  plt.imshow(np.dot(per_state_phi, cur_w[0]).reshape(\n",
        "      [grid_size, grid_size]), interpolation='none', aspect='equal')\n",
        "  plt.figure(1)\n",
        "  plt.suptitle('max q value')\n",
        "  plt.subplot(plot_size, plot_size, i+1)\n",
        "  plt.axis('off')\n",
        "  plt.imshow(max_value_img, interpolation='none', aspect='equal')"
      ]
    },
    {
      "cell_type": "code",
      "execution_count": 0,
      "metadata": {
        "cellView": "both",
        "colab": {
          "height": 214
        },
        "colab_type": "code",
        "executionInfo": {
          "elapsed": 673,
          "status": "ok",
          "timestamp": 1582738531949,
          "user": {
            "displayName": "Steven Hansen",
            "photoUrl": "https://lh3.googleusercontent.com/a-/AAuE7mAdwCIvEbi7Cs-rjSAqUHjUTuBXdF5DAZmwS69Z=s64",
            "userId": "12398999399819072329"
          },
          "user_tz": 0
        },
        "id": "1-OxbpHjkMAM",
        "outputId": "77be8746-7229-43c4-f5be-c8a205073fab"
      },
      "outputs": [
        {
          "data": {
            "image/png": "[encoded data removed]",
            "text/plain": [
              "\u003cFigure size 600x400 with 5 Axes\u003e"
            ]
          },
          "metadata": {
            "tags": []
          },
          "output_type": "display_data"
        }
      ],
      "source": [
        "#@title visualize each feature dimensions per state\n",
        "plt.figure()\n",
        "plt.suptitle('per dim phi values')\n",
        "for j in range(phi_dim):\n",
        "  plt.subplot(1, phi_dim, j+1)\n",
        "  plt.axis('off')\n",
        "  plt.imshow(per_state_phi[:, j].reshape(\n",
        "      [grid_size, grid_size]), interpolation='none', aspect='equal')"
      ]
    },
    {
      "cell_type": "code",
      "execution_count": 0,
      "metadata": {
        "cellView": "both",
        "colab": {
          "height": 298
        },
        "colab_type": "code",
        "executionInfo": {
          "elapsed": 872,
          "status": "ok",
          "timestamp": 1582748609805,
          "user": {
            "displayName": "Steven Hansen",
            "photoUrl": "https://lh3.googleusercontent.com/a-/AAuE7mAdwCIvEbi7Cs-rjSAqUHjUTuBXdF5DAZmwS69Z=s64",
            "userId": "12398999399819072329"
          },
          "user_tz": 0
        },
        "id": "qNZtbgo8E6bW",
        "outputId": "0b0099d8-75dd-486b-e2eb-d9f04db06caf"
      },
      "outputs": [
        {
          "data": {
            "text/plain": [
              "\u003cmatplotlib.image.AxesImage at 0x7fa7caf85940\u003e"
            ]
          },
          "execution_count": 116,
          "metadata": {
            "tags": []
          },
          "output_type": "execute_result"
        },
        {
          "data": {
            "image/png": "[encoded data removed]",
            "text/plain": [
              "\u003cFigure size 600x400 with 6 Axes\u003e"
            ]
          },
          "metadata": {
            "tags": []
          },
          "output_type": "display_data"
        }
      ],
      "source": [
        "#@title fast inference on a random reward function\n",
        "r = np.zeros([grid_size, grid_size])\n",
        "num_boxes = 2  # @param {type: 'integer'}\n",
        "box_size = 4  # @param {type: 'integer'}\n",
        "for _ in range(num_boxes):\n",
        "  box_c = np.random.randint(grid_size-box_size)\n",
        "  box_r = np.random.randint(grid_size-box_size)\n",
        "  r[box_r: box_r+box_size, box_c: box_c+box_size] += 1.0\n",
        "r = np.reshape(r, [num_states])\n",
        "sol, res, _, _ = np.linalg.lstsq(per_state_phi, r)\n",
        "sol /= np.linalg.norm(sol)\n",
        "eval_feed_dict[w_ph] = np.tile(sol[np.newaxis, np.newaxis], [1, num_states, 1])\n",
        "per_state_q = sess.run(gpi_q, feed_dict=eval_feed_dict)[0]\n",
        "max_value_img = np.mean(per_state_q, -1).reshape([grid_size, grid_size])\n",
        "policy = np.argmax(per_state_q, -1)\n",
        "state_visit = np.ones([num_states])\n",
        "s = reset(size=1000)\n",
        "for t in range(traj_len):\n",
        "  s = step(s, policy[s])\n",
        "  visit, count = np.unique(s, return_counts=True)\n",
        "  state_visit[visit] += count\n",
        "plt.figure(0)\n",
        "plt.subplot(231)\n",
        "plt.title('true reward')\n",
        "plt.axis('off')\n",
        "plt.imshow(r.reshape(\n",
        "    [grid_size, grid_size]), interpolation='none', aspect='equal')\n",
        "plt.subplot(232)\n",
        "plt.title('pred reward')\n",
        "plt.axis('off')\n",
        "plt.imshow(np.dot(per_state_phi, sol).reshape(\n",
        "    [grid_size, grid_size]), interpolation='none', aspect='equal')\n",
        "plt.subplot(233)\n",
        "plt.title('max q value')\n",
        "plt.axis('off')\n",
        "plt.imshow(max_value_img, interpolation='none', aspect='equal')\n",
        "plt.subplot(234)\n",
        "plt.title('log visitation')\n",
        "plt.axis('off')\n",
        "plt.imshow(np.log(state_visit.reshape(\n",
        "    [grid_size, grid_size])), interpolation='none', aspect='equal')\n",
        "plt.subplot(235)\n",
        "plt.title('current w')\n",
        "plt.plot([0, sol[0]], [0, sol[1]])\n",
        "plt.xlim([-1, 1])\n",
        "plt.ylim([-1, 1])\n",
        "plt.subplot(236)\n",
        "plt.title('policy')\n",
        "plt.axis('off')\n",
        "plt.imshow(policy.reshape(\n",
        "    [grid_size, grid_size]), interpolation='none', aspect='equal')"
      ]
    }
  ],
  "metadata": {
    "colab": {
      "collapsed_sections": [
        "N1EHYIqxd80m"
      ],
      "last_runtime": {
        "build_target": "//learning/deepmind/dm_python:dm_notebook3",
        "kind": "private"
      },
      "name": "VISR_ICLR2020.ipynb",
      "provenance": [
        {
          "file_id": "1dt9q7MLDsmWfP4KMeCqAarQWpK1AcB10",
          "timestamp": 1582748793791
        }
      ],
      "toc_visible": true
    },
    "kernelspec": {
      "display_name": "Python 3",
      "name": "python3"
    }
  },
  "nbformat": 4,
  "nbformat_minor": 0
}
